{
 "cells": [
  {
   "cell_type": "markdown",
   "id": "1b5eb0e4",
   "metadata": {},
   "source": [
    "# ASSIGNMENT"
   ]
  },
  {
   "cell_type": "code",
   "execution_count": null,
   "id": "caf81f01",
   "metadata": {},
   "outputs": [],
   "source": []
  },
  {
   "cell_type": "code",
   "execution_count": 1,
   "id": "f63cb7d5",
   "metadata": {},
   "outputs": [],
   "source": [
    "import pandas as pd"
   ]
  },
  {
   "cell_type": "code",
   "execution_count": 2,
   "id": "0033e434",
   "metadata": {},
   "outputs": [],
   "source": [
    "import re"
   ]
  },
  {
   "cell_type": "code",
   "execution_count": 3,
   "id": "a08abcfe",
   "metadata": {},
   "outputs": [],
   "source": [
    "import regex as re"
   ]
  },
  {
   "cell_type": "code",
   "execution_count": 4,
   "id": "0234ed29",
   "metadata": {},
   "outputs": [],
   "source": [
    "#print(help(re))"
   ]
  },
  {
   "cell_type": "code",
   "execution_count": 5,
   "id": "e2016b8c",
   "metadata": {},
   "outputs": [
    {
     "name": "stdout",
     "output_type": "stream",
     "text": [
      "A,ASCII,B,BESTMATCH,D,DEBUG,DEFAULT_VERSION,DOTALL,E,ENHANCEMATCH,F,FULLCASE,I,IGNORECASE,L,LOCALE,M,MULTILINE,Match,P,POSIX,Pattern,R,REVERSE,Regex,RegexFlag,S,Scanner,T,TEMPLATE,U,UNICODE,V0,V1,VERBOSE,VERSION0,VERSION1,W,WORD,X,__all__,__builtins__,__cached__,__doc__,__file__,__loader__,__name__,__package__,__path__,__spec__,__version__,_regex,_regex_core,cache_all,compile,error,escape,findall,finditer,fullmatch,match,purge,regex,search,split,splititer,sub,subf,subfn,subn,template,"
     ]
    }
   ],
   "source": [
    "for i in dir(re):\n",
    "    print(i,end=\",\")"
   ]
  },
  {
   "cell_type": "code",
   "execution_count": 6,
   "id": "a04967b4",
   "metadata": {},
   "outputs": [
    {
     "name": "stdout",
     "output_type": "stream",
     "text": [
      "71\n"
     ]
    }
   ],
   "source": [
    "print(len(dir(re)))"
   ]
  },
  {
   "cell_type": "markdown",
   "id": "f0d01833",
   "metadata": {},
   "source": [
    "QUESTION 1"
   ]
  },
  {
   "cell_type": "code",
   "execution_count": 8,
   "id": "7670b033",
   "metadata": {},
   "outputs": [
    {
     "name": "stdout",
     "output_type": "stream",
     "text": [
      "Python:Exercises:PHP:exercise\n"
     ]
    }
   ],
   "source": [
    "string1='Python Exercises,PHP:exercise'\n",
    "x=re.sub(\"[ ,.]\",\":\",string1)\n",
    "print(x)"
   ]
  },
  {
   "cell_type": "markdown",
   "id": "43bfee47",
   "metadata": {},
   "source": [
    "QUESTION 2"
   ]
  },
  {
   "cell_type": "code",
   "execution_count": 9,
   "id": "f8e622fc",
   "metadata": {},
   "outputs": [
    {
     "name": "stdout",
     "output_type": "stream",
     "text": [
      "          SUMMARY\n",
      "0      helloworld\n",
      "1       XXXXXtest\n",
      "2  123fourfivesix\n"
     ]
    }
   ],
   "source": [
    "data={'SUMMARY':['hello,world!','XXXXXtest','123four,five:;six...']}\n",
    "df=pd.DataFrame(data)\n",
    "df['SUMMARY']=df['SUMMARY'].apply(lambda x:re.sub(r'[^\\w\\s]','',x))\n",
    "print(df)"
   ]
  },
  {
   "cell_type": "markdown",
   "id": "4aaf1b72",
   "metadata": {},
   "source": [
    "QUESTION 3"
   ]
  },
  {
   "cell_type": "code",
   "execution_count": 21,
   "id": "3e7acef4",
   "metadata": {},
   "outputs": [],
   "source": [
    "import re"
   ]
  },
  {
   "cell_type": "code",
   "execution_count": 26,
   "id": "1cdf566c",
   "metadata": {},
   "outputs": [
    {
     "name": "stdout",
     "output_type": "stream",
     "text": [
      "['india', 'developing', 'country', 'world']\n"
     ]
    }
   ],
   "source": [
    "def find_long_words(string):\n",
    "    pattern=re.compile(r'\\b\\w{4,}\\b')\n",
    "    long_words=pattern.findall(string)\n",
    "    return long_words\n",
    "string=\"india is one of the developing country in the world\"\n",
    "result=find_long_words(string) \n",
    "print(result)                   "
   ]
  },
  {
   "cell_type": "code",
   "execution_count": null,
   "id": "37d1c984",
   "metadata": {},
   "outputs": [],
   "source": []
  },
  {
   "cell_type": "markdown",
   "id": "52636cd3",
   "metadata": {},
   "source": [
    "QUESTION 4"
   ]
  },
  {
   "cell_type": "code",
   "execution_count": 28,
   "id": "3db0906d",
   "metadata": {},
   "outputs": [
    {
     "name": "stdout",
     "output_type": "stream",
     "text": [
      "['', '', '', '', '', '', '', '', '', '', '', '', '', '', '', '', '', '', '', '', '', '', '', '', '', '', '', '', '', '', '', '', '', '', '', '', '', '', '', '', '', '', '', '', '', '', '', '', '', '', '', '']\n"
     ]
    }
   ],
   "source": [
    "def find_long_words(string):\n",
    "    pattern=re.compile(r'|b\\w{3,5}\\b')\n",
    "    matches=pattern.findall(string)\n",
    "    return matches\n",
    "string=\"india is one of the developing country in the world\"\n",
    "result=find_long_words(string)\n",
    "print(result)"
   ]
  },
  {
   "cell_type": "markdown",
   "id": "b6e4ca94",
   "metadata": {},
   "source": [
    "QUESTION 5"
   ]
  },
  {
   "cell_type": "code",
   "execution_count": 40,
   "id": "82b68a72",
   "metadata": {},
   "outputs": [],
   "source": [
    "import re"
   ]
  },
  {
   "cell_type": "code",
   "execution_count": 43,
   "id": "f0716e4d",
   "metadata": {},
   "outputs": [
    {
     "ename": "NameError",
     "evalue": "name 'sample_text' is not defined",
     "output_type": "error",
     "traceback": [
      "\u001b[1;31m---------------------------------------------------------------------------\u001b[0m",
      "\u001b[1;31mNameError\u001b[0m                                 Traceback (most recent call last)",
      "Cell \u001b[1;32mIn[43], line 4\u001b[0m\n\u001b[0;32m      2\u001b[0m     pattern\u001b[38;5;241m=\u001b[39mre\u001b[38;5;241m.\u001b[39mcompile(\u001b[38;5;124mr\u001b[39m\u001b[38;5;124m'\u001b[39m\u001b[38;5;124m\\\u001b[39m\u001b[38;5;124m([^)*\u001b[39m\u001b[38;5;124m\\\u001b[39m\u001b[38;5;124m)\u001b[39m\u001b[38;5;124m'\u001b[39m)\n\u001b[0;32m      3\u001b[0m     \u001b[38;5;28;01mreturn\u001b[39;00m[pattern\u001b[38;5;241m.\u001b[39msub(\u001b[38;5;124m'\u001b[39m\u001b[38;5;124m'\u001b[39m,s)\u001b[38;5;28;01mfor\u001b[39;00m s \u001b[38;5;129;01min\u001b[39;00m strings]\n\u001b[1;32m----> 4\u001b[0m sample_text[\u001b[38;5;124m\"\u001b[39m\u001b[38;5;124mexample(.com)\u001b[39m\u001b[38;5;124m\"\u001b[39m,\u001b[38;5;124m\"\u001b[39m\u001b[38;5;124mhr@fliprobo (.com)\u001b[39m\u001b[38;5;124m\"\u001b[39m,\u001b[38;5;124m\"\u001b[39m\u001b[38;5;124mHello(Data Science World)\u001b[39m\u001b[38;5;124m\"\u001b[39m,\u001b[38;5;124m\"\u001b[39m\u001b[38;5;124mData (Scientists)\u001b[39m\u001b[38;5;124m\"\u001b[39m]\n\u001b[0;32m      5\u001b[0m result\u001b[38;5;241m=\u001b[39mremove_parantheses(sample_text)\n\u001b[0;32m      6\u001b[0m \u001b[38;5;28mprint\u001b[39m(result)\n",
      "\u001b[1;31mNameError\u001b[0m: name 'sample_text' is not defined"
     ]
    }
   ],
   "source": [
    "def remove_parantheses(strings):\n",
    "    pattern=re.compile(r'\\([^)*\\)')\n",
    "    return[pattern.sub('',s)for s in strings]\n",
    "sample_text[\"example(.com)\",\"hr@fliprobo (.com)\",\"Hello(Data Science World)\",\"Data (Scientists)\"]\n",
    "result=remove_parantheses(sample_text)\n",
    "print(result)"
   ]
  },
  {
   "cell_type": "markdown",
   "id": "3ab770e2",
   "metadata": {},
   "source": [
    "QUESTION 7"
   ]
  },
  {
   "cell_type": "code",
   "execution_count": 46,
   "id": "6f3647e3",
   "metadata": {},
   "outputs": [
    {
     "name": "stdout",
     "output_type": "stream",
     "text": [
      "['Importance', 'Of', 'Regular', 'Expressions', 'In', 'Python']\n"
     ]
    }
   ],
   "source": [
    "sample_text=\"ImportanceOfRegularExpressionsInPython\"\n",
    "result=re.findall('[A-Z][^A-Z]*',sample_text)\n",
    "print(result)"
   ]
  },
  {
   "cell_type": "markdown",
   "id": "16f07bdf",
   "metadata": {},
   "source": [
    "QUESTION 8"
   ]
  },
  {
   "cell_type": "code",
   "execution_count": 50,
   "id": "a8e59fa2",
   "metadata": {},
   "outputs": [
    {
     "name": "stdout",
     "output_type": "stream",
     "text": [
      "RegularExpression1IsAn2ImportantTopic2InPython\n"
     ]
    }
   ],
   "source": [
    "sample_text=\"RegularExpression1IsAn2ImportantTopic2InPython\"\n",
    "pattern=r'(\\d+)([A-Za-z]+)'\n",
    "result=re.sub(pattern,r'\\1\\2',sample_text )\n",
    "print(result)              "
   ]
  },
  {
   "cell_type": "markdown",
   "id": "d7756f26",
   "metadata": {},
   "source": [
    "QUESTION 9"
   ]
  },
  {
   "cell_type": "code",
   "execution_count": 2,
   "id": "490f7a4d",
   "metadata": {},
   "outputs": [],
   "source": [
    "import re"
   ]
  },
  {
   "cell_type": "code",
   "execution_count": 11,
   "id": "7f95850d",
   "metadata": {},
   "outputs": [
    {
     "name": "stdout",
     "output_type": "stream",
     "text": [
      "RegularExpressions1IsAn2ImportantTopic3InPython\n"
     ]
    }
   ],
   "source": [
    "sample_text=\"RegularExpressions1IsAn2ImportantTopic3InPython\"\n",
    "pattern=r'([A-Z][a-z0-9]+||d+)'\n",
    "result=re.sub(pattern,r'\\1',sample_text)\n",
    "result=result.strip()\n",
    "print(result)"
   ]
  },
  {
   "cell_type": "markdown",
   "id": "f78fc9b0",
   "metadata": {},
   "source": [
    "QUESTION 11"
   ]
  },
  {
   "cell_type": "code",
   "execution_count": 12,
   "id": "e0f2f31b",
   "metadata": {},
   "outputs": [],
   "source": [
    "def match_string(string):\n",
    "    pattern=r'^[a-za-z0-9_]+$'\n",
    "    if re.match(pattern,string):\n",
    "        return True\n",
    "    else:\n",
    "        return False"
   ]
  },
  {
   "cell_type": "code",
   "execution_count": 14,
   "id": "950b1113",
   "metadata": {},
   "outputs": [],
   "source": [
    "string1=(\"Data sciemce deals with AI and Mchine learnig\")\n",
    "#output:string1 matches the pattern"
   ]
  },
  {
   "cell_type": "markdown",
   "id": "d9476e37",
   "metadata": {},
   "source": [
    "QUESTION 12"
   ]
  },
  {
   "cell_type": "code",
   "execution_count": 15,
   "id": "46e6a78d",
   "metadata": {},
   "outputs": [],
   "source": [
    "def starts_with_number(string,number):\n",
    "    if string.startswith(str(number)):\n",
    "        return True\n",
    "    else:\n",
    "        return False\n",
    "    "
   ]
  },
  {
   "cell_type": "markdown",
   "id": "b48e5f6e",
   "metadata": {},
   "source": [
    "QUESTION 13"
   ]
  },
  {
   "cell_type": "code",
   "execution_count": 16,
   "id": "b417aa7e",
   "metadata": {},
   "outputs": [
    {
     "name": "stdout",
     "output_type": "stream",
     "text": [
      "485.9.369.150\n"
     ]
    }
   ],
   "source": [
    "ip=\"485.09.0369.150\"\n",
    "string=re.sub('\\.[0]*','.',ip)\n",
    "print(string)"
   ]
  },
  {
   "cell_type": "markdown",
   "id": "07d67fbd",
   "metadata": {},
   "source": [
    "QUESTION 14 "
   ]
  },
  {
   "cell_type": "code",
   "execution_count": 25,
   "id": "08c615da",
   "metadata": {},
   "outputs": [
    {
     "name": "stdout",
     "output_type": "stream",
     "text": [
      "[]\n"
     ]
    }
   ],
   "source": [
    "sample_text=\"On August 15th 1947 that India was declared independent from British colonialism and the reins of control were handed over to the leaders of the country\"\n",
    "pattern=r\"\\b([A-Z][a-z]+)\\d{1,2}(?:st|nd|rd|th)?s+\\d{4}\\b\"\n",
    "matches=re.findall(pattern,sample_text)\n",
    "print(matches)"
   ]
  },
  {
   "cell_type": "markdown",
   "id": "5667eb14",
   "metadata": {},
   "source": [
    "QUESTION 15"
   ]
  },
  {
   "cell_type": "code",
   "execution_count": 3,
   "id": "31ded26d",
   "metadata": {},
   "outputs": [
    {
     "name": "stdout",
     "output_type": "stream",
     "text": [
      "Found Words: ['fox', 'dog']\n"
     ]
    }
   ],
   "source": [
    "def search_literals(text,searched_words):\n",
    "    found_words=[word for word in searched_words if word in text]\n",
    "    return found_words\n",
    "\n",
    "sample_text='The quick brown fox jumps over the lazy dog'\n",
    "searched_words=['fox','dog','horse']\n",
    "result=search_literals(sample_text,searched_words)\n",
    "print(\"Found Words:\",result)"
   ]
  },
  {
   "cell_type": "markdown",
   "id": "916a8a0a",
   "metadata": {},
   "source": [
    "QUESTION 16"
   ]
  },
  {
   "cell_type": "code",
   "execution_count": 5,
   "id": "8442d98f",
   "metadata": {},
   "outputs": [],
   "source": [
    "import re"
   ]
  },
  {
   "cell_type": "code",
   "execution_count": 6,
   "id": "f1f8b3e9",
   "metadata": {},
   "outputs": [
    {
     "name": "stdout",
     "output_type": "stream",
     "text": [
      "Found \"fox\" in The quick brown fox jumps over the lazy dog\" from 16 to 19\n"
     ]
    }
   ],
   "source": [
    "pattern='fox'\n",
    "text='The quick brown fox jumps over the lazy dog'\n",
    "match=re.search(pattern,text)\n",
    "s=match.start()\n",
    "e=match.end()\n",
    "print('Found \"%s\" in %s\" from %d to %d' % (match.re.pattern,match.string,s,e))"
   ]
  },
  {
   "cell_type": "markdown",
   "id": "b197f1a8",
   "metadata": {},
   "source": [
    "QUESTION 17"
   ]
  },
  {
   "cell_type": "code",
   "execution_count": 8,
   "id": "2687ee24",
   "metadata": {},
   "outputs": [
    {
     "name": "stdout",
     "output_type": "stream",
     "text": [
      "Found \"exercises\"\n",
      "Found \"exercises\"\n",
      "Found \"exercises\"\n"
     ]
    }
   ],
   "source": [
    "sample_text='Python exercises,PHP exercises,C# exercises'\n",
    "pattern='exercises'\n",
    "for match in re.findall(pattern,sample_text):\n",
    "    print('Found \"%s\"' %match)"
   ]
  },
  {
   "cell_type": "markdown",
   "id": "0b085a37",
   "metadata": {},
   "source": [
    "QUESTION 18"
   ]
  },
  {
   "cell_type": "code",
   "execution_count": 13,
   "id": "83532a50",
   "metadata": {},
   "outputs": [
    {
     "name": "stdout",
     "output_type": "stream",
     "text": [
      "Found \"exercises\" at 7:16\n",
      "Found \"exercises\" at 21:30\n"
     ]
    }
   ],
   "source": [
    "sample_text='Python exercises,PHP exercises,C# exercise'\n",
    "pattern='exercises'\n",
    "for match in re.finditer(pattern,sample_text):\n",
    "    s=match.start()\n",
    "    e=match.end()\n",
    "    print('Found \"%s\" at %d:%d' % (sample_text[s:e],s,e))"
   ]
  },
  {
   "cell_type": "markdown",
   "id": "42184823",
   "metadata": {},
   "source": [
    "QUESTION 20"
   ]
  },
  {
   "cell_type": "code",
   "execution_count": 15,
   "id": "3f3958b9",
   "metadata": {},
   "outputs": [],
   "source": [
    "import re"
   ]
  },
  {
   "cell_type": "code",
   "execution_count": 18,
   "id": "6d8ec159",
   "metadata": {},
   "outputs": [
    {
     "ename": "NameError",
     "evalue": "name 'pattern' is not defined",
     "output_type": "error",
     "traceback": [
      "\u001b[1;31m---------------------------------------------------------------------------\u001b[0m",
      "\u001b[1;31mNameError\u001b[0m                                 Traceback (most recent call last)",
      "Cell \u001b[1;32mIn[18], line 3\u001b[0m\n\u001b[0;32m      1\u001b[0m \u001b[38;5;28;01mdef\u001b[39;00m \u001b[38;5;21mfind_decimal_numbers\u001b[39m(string):\n\u001b[0;32m      2\u001b[0m     pattern\u001b[38;5;241m=\u001b[39mre\u001b[38;5;241m.\u001b[39mcompile(\u001b[38;5;124mr\u001b[39m\u001b[38;5;124m'\u001b[39m\u001b[38;5;124m\\\u001b[39m\u001b[38;5;124md+\u001b[39m\u001b[38;5;124m\\\u001b[39m\u001b[38;5;124m.\u001b[39m\u001b[38;5;124m\\\u001b[39m\u001b[38;5;124md\u001b[39m\u001b[38;5;124m{\u001b[39m\u001b[38;5;124m1,2}\u001b[39m\u001b[38;5;124m'\u001b[39m)\n\u001b[1;32m----> 3\u001b[0m decimal_numbers\u001b[38;5;241m=\u001b[39mre\u001b[38;5;241m.\u001b[39mfindall(pattern,string)\n\u001b[0;32m      4\u001b[0m \u001b[38;5;28;01mreturn\u001b[39;00m decimal_numbers\n\u001b[0;32m      5\u001b[0m sample_text\u001b[38;5;241m=\u001b[39m\u001b[38;5;124m\"\u001b[39m\u001b[38;5;124m001.12 0132.123 2.31875 145.8 3.01 27.25 0.25\u001b[39m\u001b[38;5;124m\"\u001b[39m\n",
      "\u001b[1;31mNameError\u001b[0m: name 'pattern' is not defined"
     ]
    }
   ],
   "source": [
    "def find_decimal_numbers(string):\n",
    "    pattern=re.compile(r'\\d+\\.\\d{1,2}')\n",
    "decimal_numbers=re.findall(pattern,string)\n",
    "return decimal_numbers\n",
    "sample_text=\"001.12 0132.123 2.31875 145.8 3.01 27.25 0.25\"\n",
    "output=find_decimal_numbers(sample_text)\n",
    "print(output)                       \n",
    "                                               \n",
    "                       "
   ]
  },
  {
   "cell_type": "markdown",
   "id": "548e19a8",
   "metadata": {},
   "source": [
    "QUESTION 21"
   ]
  },
  {
   "cell_type": "code",
   "execution_count": 20,
   "id": "230b5d58",
   "metadata": {},
   "outputs": [
    {
     "name": "stdout",
     "output_type": "stream",
     "text": [
      "['', '100', '200', '300']\n"
     ]
    }
   ],
   "source": [
    "text=\"Hundred 100, Two Hundred 200, Three Hundred 300\"\n",
    "result=re.split(\"\\D+\",text)\n",
    "print(result)"
   ]
  },
  {
   "cell_type": "markdown",
   "id": "3aa08b31",
   "metadata": {},
   "source": [
    "QUESTION 22"
   ]
  },
  {
   "cell_type": "code",
   "execution_count": 22,
   "id": "29b5d854",
   "metadata": {},
   "outputs": [
    {
     "name": "stdout",
     "output_type": "stream",
     "text": [
      "Max_value 950\n"
     ]
    }
   ],
   "source": [
    "sample_text='My marks in each semester are:947,896,926,524,734,950,642'\n",
    "number=re.findall('\\d+',sample_text)\n",
    "number=map(int,number)\n",
    "print(\"Max_value\",max(number))"
   ]
  },
  {
   "cell_type": "markdown",
   "id": "6a6b4701",
   "metadata": {},
   "source": [
    "QUESTION 23"
   ]
  },
  {
   "cell_type": "code",
   "execution_count": 30,
   "id": "cf136415",
   "metadata": {},
   "outputs": [
    {
     "name": "stdout",
     "output_type": "stream",
     "text": [
      "['RegularExpressionIsAnImportantTopicInPython']\n"
     ]
    }
   ],
   "source": [
    "sample_text=\"RegularExpressionIsAnImportantTopicInPython\"\n",
    "x=re.split(\"\\s\",sample_text)\n",
    "print(x)"
   ]
  },
  {
   "cell_type": "markdown",
   "id": "f18f5e6e",
   "metadata": {},
   "source": [
    "QUESTION 24"
   ]
  },
  {
   "cell_type": "code",
   "execution_count": 31,
   "id": "39735e0f",
   "metadata": {},
   "outputs": [
    {
     "name": "stdout",
     "output_type": "stream",
     "text": [
      "['Ab', 'Cd', 'Fg', 'Hi']\n"
     ]
    }
   ],
   "source": [
    "text=\"AbCdEFgHi\"\n",
    "pattern=re.compile(r'([A-Z][a-z]+)')\n",
    "matches=re.findall(pattern,text)\n",
    "print(matches)"
   ]
  },
  {
   "cell_type": "markdown",
   "id": "2b84fa65",
   "metadata": {},
   "source": [
    "QUESTION 25"
   ]
  },
  {
   "cell_type": "code",
   "execution_count": 33,
   "id": "5748c104",
   "metadata": {},
   "outputs": [
    {
     "name": "stdout",
     "output_type": "stream",
     "text": [
      "He1o he1o world world\n"
     ]
    }
   ],
   "source": [
    "sample_text=\"Hello hello world world\"\n",
    "x=re.sub(r'(\\w+)\\1',r'1',sample_text)\n",
    "print(x)"
   ]
  },
  {
   "cell_type": "markdown",
   "id": "f7f61878",
   "metadata": {},
   "source": [
    "QUESTION 26"
   ]
  },
  {
   "cell_type": "code",
   "execution_count": 34,
   "id": "7b3446e5",
   "metadata": {},
   "outputs": [],
   "source": [
    "def check_string(string):\n",
    "    pattern=r\"\\w$\"\n",
    "    match=re.search(pattern,string)\n",
    "    if match:\n",
    "        return True\n",
    "    else:\n",
    "        return False"
   ]
  },
  {
   "cell_type": "markdown",
   "id": "29a98cd4",
   "metadata": {},
   "source": [
    "QUESTION 27"
   ]
  },
  {
   "cell_type": "code",
   "execution_count": 40,
   "id": "4a31837b",
   "metadata": {},
   "outputs": [
    {
     "name": "stdout",
     "output_type": "stream",
     "text": [
      "['#Doltwal', '#xyzabc', '#Demonitaization']\n"
     ]
    }
   ],
   "source": [
    "def extract_hashtags(text):\n",
    "    hashtags=re.findall(r'#\\w+',text)\n",
    "    return hashtags\n",
    "sample_text='RT @kapil_kaushik:#Doltwal I mean #xyzabc is \"hurt\"by #Demonitaization as the same has rendered'\n",
    "hashtags=extract_hashtags(sample_text)\n",
    "print(hashtags)"
   ]
  },
  {
   "cell_type": "markdown",
   "id": "98679a01",
   "metadata": {},
   "source": [
    "QUESTION 28"
   ]
  },
  {
   "cell_type": "code",
   "execution_count": 42,
   "id": "448684b6",
   "metadata": {},
   "outputs": [
    {
     "name": "stdout",
     "output_type": "stream",
     "text": [
      "@Jags123456Bharat band on 28??<ed><U+00A0><U+00B8><ed><U+00b8><U+0082>Those who are protesting#demonetization are all difgferent party leaders\n"
     ]
    }
   ],
   "source": [
    "sample_text=\"@Jags123456Bharat band on 28??<ed><U+00A0><U+00B8><ed><U+00b8><U+0082>Those who are protesting#demonetization are all difgferent party leaders\"\n",
    "pattern=r\"<U\\=\\w{4}>\"\n",
    "output_text=re.sub(pattern,\"\",sample_text)\n",
    "print(output_text)"
   ]
  },
  {
   "cell_type": "markdown",
   "id": "31882f10",
   "metadata": {},
   "source": [
    "QUESTION 29"
   ]
  },
  {
   "cell_type": "code",
   "execution_count": 47,
   "id": "70ca1c4a",
   "metadata": {},
   "outputs": [
    {
     "ename": "SyntaxError",
     "evalue": "invalid syntax (399938049.py, line 1)",
     "output_type": "error",
     "traceback": [
      "\u001b[1;36m  Cell \u001b[1;32mIn[47], line 1\u001b[1;36m\u001b[0m\n\u001b[1;33m    open('filename.txt','r') as\u001b[0m\n\u001b[1;37m                             ^\u001b[0m\n\u001b[1;31mSyntaxError\u001b[0m\u001b[1;31m:\u001b[0m invalid syntax\n"
     ]
    }
   ],
   "source": [
    "open('filename.txt','r') as\n",
    "file:\n",
    "    text=file.read\n",
    "text=Ron was born on 12-9-1992 and he was admitted to school 15-12-1999\n",
    "pattern=r'\\d{2}\\-d{2}-\\d{4}'\n",
    "dates=re.findall(pattern,sample_text)\n",
    "print(date)"
   ]
  },
  {
   "cell_type": "markdown",
   "id": "a2b4c8e3",
   "metadata": {},
   "source": [
    "QUESTION 30"
   ]
  },
  {
   "cell_type": "code",
   "execution_count": 49,
   "id": "8eae4d0e",
   "metadata": {},
   "outputs": [],
   "source": [
    "def remove_words(string):\n",
    "    pattern=re.compile(r'\\b\\w{2,4}\\b')\n",
    "    modified_string=re.sub(pattern,'',string)\n",
    "    return modified_string"
   ]
  },
  {
   "cell_type": "code",
   "execution_count": 52,
   "id": "c23da185",
   "metadata": {},
   "outputs": [
    {
     "ename": "NameError",
     "evalue": "name 'reuslt' is not defined",
     "output_type": "error",
     "traceback": [
      "\u001b[1;31m---------------------------------------------------------------------------\u001b[0m",
      "\u001b[1;31mNameError\u001b[0m                                 Traceback (most recent call last)",
      "Cell \u001b[1;32mIn[52], line 3\u001b[0m\n\u001b[0;32m      1\u001b[0m sample_text\u001b[38;5;241m=\u001b[39m\u001b[38;5;124m\"\u001b[39m\u001b[38;5;124mThe following example creates an ArrayList with a caopacity of 50 elements.4 elements are then added to the ArrayList and the ArrayList is trimmed accordingly\u001b[39m\u001b[38;5;124m\"\u001b[39m\n\u001b[0;32m      2\u001b[0m result\u001b[38;5;241m=\u001b[39mremove_words(sample_text)\n\u001b[1;32m----> 3\u001b[0m \u001b[38;5;28mprint\u001b[39m(reuslt\u001b[38;5;241m==\u001b[39mexpected_output)\n",
      "\u001b[1;31mNameError\u001b[0m: name 'reuslt' is not defined"
     ]
    }
   ],
   "source": [
    "sample_text=\"The following example creates an ArrayList with a caopacity of 50 elements.4 elements are then added to the ArrayList and the ArrayList is trimmed accordingly\"\n",
    "result=remove_words(sample_text)\n",
    "print(reuslt==expected_output)\n",
    "#true"
   ]
  },
  {
   "cell_type": "code",
   "execution_count": null,
   "id": "5ecae823",
   "metadata": {},
   "outputs": [],
   "source": []
  }
 ],
 "metadata": {
  "kernelspec": {
   "display_name": "Python 3 (ipykernel)",
   "language": "python",
   "name": "python3"
  },
  "language_info": {
   "codemirror_mode": {
    "name": "ipython",
    "version": 3
   },
   "file_extension": ".py",
   "mimetype": "text/x-python",
   "name": "python",
   "nbconvert_exporter": "python",
   "pygments_lexer": "ipython3",
   "version": "3.11.4"
  }
 },
 "nbformat": 4,
 "nbformat_minor": 5
}
